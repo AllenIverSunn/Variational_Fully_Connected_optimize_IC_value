{
 "cells": [
  {
   "cell_type": "code",
   "execution_count": 72,
   "metadata": {},
   "outputs": [],
   "source": [
    "import matplotlib.pyplot as plt\n",
    "import numpy as np\n",
    "import pandas as pd\n",
    "import torch\n",
    "import torch.nn as nn\n",
    "from torch.autograd import Variable, Function\n",
    "import torch.optim as optim\n",
    "import torch.nn.functional as F\n",
    "import torch.utils.data as Data\n",
    "from torch.nn.utils import clip_grad_norm_\n",
    "from torch.nn import init\n",
    "import sklearn.preprocessing as preprocessing\n",
    "import scipy.stats as stats\n",
    "%matplotlib inline"
   ]
  },
  {
   "cell_type": "markdown",
   "metadata": {},
   "source": [
    "## 1. 读取数据与处理数据"
   ]
  },
  {
   "cell_type": "code",
   "execution_count": 31,
   "metadata": {},
   "outputs": [],
   "source": [
    "data = pd.read_csv('./darts-master/cnn/data.csv')\n",
    "profit = np.loadtxt('./darts-master/cnn/profit.txt')"
   ]
  },
  {
   "cell_type": "markdown",
   "metadata": {},
   "source": [
    "这里把收益压缩到(0, 1)区间"
   ]
  },
  {
   "cell_type": "code",
   "execution_count": 32,
   "metadata": {},
   "outputs": [
    {
     "name": "stdout",
     "output_type": "stream",
     "text": [
      "(420, 13) (420,)\n"
     ]
    }
   ],
   "source": [
    "## 按时间排序\n",
    "data = data.sort_values('date')\n",
    "## 丢掉时间\n",
    "data = data.drop('date', axis=1)\n",
    "data = data.values\n",
    "scale_data = preprocessing.MinMaxScaler().fit_transform(data)[1:, :]\n",
    "scale_profit = preprocessing.MinMaxScaler().fit_transform(profit.reshape((-1, 1))).ravel()\n",
    "print(scale_data.shape, scale_profit.shape)"
   ]
  },
  {
   "cell_type": "markdown",
   "metadata": {},
   "source": [
    "## 2. 自定义层"
   ]
  },
  {
   "cell_type": "markdown",
   "metadata": {},
   "source": [
    "此处定义VFC (Variational Fully-Connected)层 (自己起的:-D)。使用一个门控进行加权决定进行那一项操作，此处使用四中操作：+, $\\times$, mean, std"
   ]
  },
  {
   "cell_type": "code",
   "execution_count": 4,
   "metadata": {},
   "outputs": [],
   "source": [
    "class VFC(nn.Module):\n",
    "    def __init__(self, input_size, hidden_size, num_ops, batch_size):\n",
    "        super(VFC, self).__init__()\n",
    "        self.batch_size = batch_size\n",
    "        self.input_size = input_size\n",
    "        self.hidden_size = hidden_size\n",
    "        self.w = nn.Linear(input_size, hidden_size)\n",
    "        self.alpha = nn.Linear(batch_size, num_ops)\n",
    "        \n",
    "    def forward(self, input):\n",
    "        output = self.w(input)\n",
    "        ## alphas是确定使用哪个的权重向量\n",
    "        alphas = F.softmax(self.alpha(output.t()), dim=1)\n",
    "        temp = torch.zeros((input.size(0), self.hidden_size))\n",
    "        ## 按权重相加\n",
    "        for i in range(self.hidden_size):\n",
    "            temp[:, i] = alphas[i, 0] * torch.sum(output, dim=1) +\\\n",
    "                            alphas[i, 1] * torch.prod(output, dim=1) +\\\n",
    "                            alphas[i, 2] * torch.mean(output) +\\\n",
    "                            alphas[i, 3] * torch.std(output)\n",
    "        return temp, alphas"
   ]
  },
  {
   "cell_type": "markdown",
   "metadata": {},
   "source": [
    "## 3. 定义构建网络中需要用到的函数"
   ]
  },
  {
   "cell_type": "code",
   "execution_count": 47,
   "metadata": {},
   "outputs": [],
   "source": [
    "## 皮尔逊相关系数\n",
    "def pearson(x, y):\n",
    "    nominator = torch.sum(x * y) - (torch.sum(x) * torch.sum(y)) / x.size(0)\n",
    "    denominator = torch.sqrt((torch.sum(x ** 2) - torch.sum(x) ** 2 / x.size(0)) *\n",
    "                             (torch.sum(y ** 2) - torch.sum(y) ** 2 / y.size(0)))\n",
    "    return nominator / denominator\n",
    "\n",
    "## 初始化权重\n",
    "def init_weights(module):\n",
    "    className = module.__class__.__name__\n",
    "    if className.find('Linear') != -1:\n",
    "        init.xavier_uniform(module.weight)  # weights\n",
    "        init.constant(module.bias, 0)  # bias"
   ]
  },
  {
   "cell_type": "markdown",
   "metadata": {},
   "source": [
    "## 4. 构建网络并定义训练过程"
   ]
  },
  {
   "cell_type": "markdown",
   "metadata": {},
   "source": [
    "此处网络的最后一层是一个sigmoid是因为profit被缩小到0, 1区间内，所以网络输出要与其一致，否则就会导致ic上不去"
   ]
  },
  {
   "cell_type": "code",
   "execution_count": 48,
   "metadata": {},
   "outputs": [],
   "source": [
    "class Network(nn.Module):\n",
    "    def __init__(self, input_size, hidden_size, output_size, num_ops=2, batch_size=32):\n",
    "        super(Network, self).__init__()\n",
    "\n",
    "        self.batch_size = batch_size\n",
    "        self.input_size = input_size\n",
    "        self.hidden_size = hidden_size\n",
    "        self.output_size = output_size\n",
    "        \n",
    "        self.vfc1 = VFC(input_size, hidden_size, num_ops, batch_size)\n",
    "        self.vfc2 = VFC(hidden_size, output_size, num_ops, batch_size)\n",
    "        self.sigmoid = nn.Sigmoid()\n",
    "        \n",
    "        \n",
    "    def forward(self, input):\n",
    "        output, alpha2 = self.vfc1(input)\n",
    "        output, alpha3 = self.vfc2(output)\n",
    "        output = self.sigmoid(output)\n",
    "        return output, alpha2, alpha3"
   ]
  },
  {
   "cell_type": "code",
   "execution_count": 85,
   "metadata": {},
   "outputs": [],
   "source": [
    "def train(model, dataloader, optimizer, max_iter):\n",
    "    Loss = []\n",
    "    coeffs = []\n",
    "    alpha2, alpha3 = None, None\n",
    "    for i in range(max_iter):\n",
    "        loss = []\n",
    "        for j, (X_batch, y_batch) in enumerate(dataloader):\n",
    "            output, alpha2, alpha3 = model(X_batch)\n",
    "            assert(output.size(0) == y_batch.size(0))\n",
    "            coeff = pearson(output.squeeze(), y_batch)\n",
    "            coeffs.append(coeff)\n",
    "#             l = (1 - coeff) ** 2\n",
    "            l = torch.sum(torch.abs(torch.ones(coeff.size()) - coeff))\n",
    "            loss.append(l)\n",
    "            l.backward()\n",
    "            ## 防止梯度爆炸\n",
    "            clip_grad_norm_(model.parameters(), 0.5)\n",
    "            optimizer.step()\n",
    "        if i % 10 == 0:\n",
    "            print('{}/{} epoch || loss: {} || ic: {}'.format(i, max_iter, l.item(), coeff))\n",
    "        Loss.append(np.mean(np.asarray([l.item() for l in loss])))\n",
    "    return Loss, coeffs, alpha2, alpha3"
   ]
  },
  {
   "cell_type": "markdown",
   "metadata": {},
   "source": [
    "## 5. 训练"
   ]
  },
  {
   "cell_type": "code",
   "execution_count": 80,
   "metadata": {},
   "outputs": [],
   "source": [
    "lr = 0.001\n",
    "max_iter = 80\n",
    "\n",
    "network = Network(13, 20, 1, 4, 420)\n",
    "init_weights(network)\n",
    "optimizer = optim.Adam(network.parameters(), lr)"
   ]
  },
  {
   "cell_type": "code",
   "execution_count": 77,
   "metadata": {},
   "outputs": [],
   "source": [
    "dataset = Data.TensorDataset(torch.FloatTensor(scale_data), torch.FloatTensor(scale_profit))\n",
    "dataloader = Data.DataLoader(dataset, batch_size=scale_data.shape[0], shuffle=False)"
   ]
  },
  {
   "cell_type": "code",
   "execution_count": 81,
   "metadata": {},
   "outputs": [
    {
     "name": "stdout",
     "output_type": "stream",
     "text": [
      "0/80 epoch || loss: 0.9737778902053833 || ic: 0.026222139596939087\n",
      "10/80 epoch || loss: 0.5145942568778992 || ic: 0.48540574312210083\n",
      "20/80 epoch || loss: 0.1665515899658203 || ic: 0.8334484100341797\n",
      "30/80 epoch || loss: 0.07402414083480835 || ic: 0.9259758591651917\n",
      "40/80 epoch || loss: 0.04457885026931763 || ic: 0.9554211497306824\n",
      "50/80 epoch || loss: 0.024643242359161377 || ic: 0.9753567576408386\n",
      "60/80 epoch || loss: 0.015265345573425293 || ic: 0.9847346544265747\n",
      "70/80 epoch || loss: 0.011853933334350586 || ic: 0.9881460666656494\n"
     ]
    }
   ],
   "source": [
    "Loss, coeffs, alpha2, alpha3 = train(network, dataloader, optimizer, max_iter)"
   ]
  },
  {
   "cell_type": "code",
   "execution_count": 83,
   "metadata": {},
   "outputs": [
    {
     "data": {
      "text/plain": [
       "[<matplotlib.lines.Line2D at 0x2991023a048>]"
      ]
     },
     "execution_count": 83,
     "metadata": {},
     "output_type": "execute_result"
    },
    {
     "data": {
      "image/png": "[encoded data removed]",
      "text/plain": [
       "<Figure size 432x288 with 1 Axes>"
      ]
     },
     "metadata": {},
     "output_type": "display_data"
    }
   ],
   "source": [
    "L = [l.item() for l in Loss]\n",
    "plt.figure()\n",
    "plt.xlabel('#epoch')\n",
    "plt.ylabel('Loss')\n",
    "plt.title('Loss ~ #eopchs')\n",
    "plt.plot(list(range(max_iter)), L)"
   ]
  },
  {
   "cell_type": "code",
   "execution_count": 84,
   "metadata": {},
   "outputs": [
    {
     "data": {
      "text/plain": [
       "[<matplotlib.lines.Line2D at 0x29910297a58>]"
      ]
     },
     "execution_count": 84,
     "metadata": {},
     "output_type": "execute_result"
    },
    {
     "data": {
      "image/png": "[encoded data removed]",
      "text/plain": [
       "<Figure size 432x288 with 1 Axes>"
      ]
     },
     "metadata": {},
     "output_type": "display_data"
    }
   ],
   "source": [
    "plt.figure()\n",
    "plt.title('IC ~ #epochs')\n",
    "plt.xlabel('#epochs')\n",
    "plt.ylabel('IC')\n",
    "plt.plot(list(range(max_iter)), coeffs)"
   ]
  },
  {
   "cell_type": "code",
   "execution_count": null,
   "metadata": {},
   "outputs": [],
   "source": []
  }
 ],
 "metadata": {
  "kernelspec": {
   "display_name": "Python 3",
   "language": "python",
   "name": "python3"
  },
  "language_info": {
   "codemirror_mode": {
    "name": "ipython",
    "version": 3
   },
   "file_extension": ".py",
   "mimetype": "text/x-python",
   "name": "python",
   "nbconvert_exporter": "python",
   "pygments_lexer": "ipython3",
   "version": "3.6.5"
  }
 },
 "nbformat": 4,
 "nbformat_minor": 2
}
